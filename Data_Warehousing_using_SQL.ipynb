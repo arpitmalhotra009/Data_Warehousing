{
  "nbformat": 4,
  "nbformat_minor": 0,
  "metadata": {
    "colab": {
      "name": "Data Warehousing using SQL",
      "provenance": [],
      "collapsed_sections": [],
      "include_colab_link": true
    },
    "kernelspec": {
      "name": "python3",
      "display_name": "Python 3"
    }
  },
  "cells": [
    {
      "cell_type": "markdown",
      "metadata": {
        "id": "view-in-github",
        "colab_type": "text"
      },
      "source": [
        "<a href=\"https://colab.research.google.com/github/arpitmalhotra009/Data_Warehousing/blob/main/Data_Warehousing_using_SQL.ipynb\" target=\"_parent\"><img src=\"https://colab.research.google.com/assets/colab-badge.svg\" alt=\"Open In Colab\"/></a>"
      ]
    },
    {
      "cell_type": "markdown",
      "metadata": {
        "id": "FK_ydPh4LxXZ"
      },
      "source": [
        "# Datawarehousing with MySQL - StartUP"
      ]
    },
    {
      "cell_type": "markdown",
      "metadata": {
        "id": "t2HbOmI3MPLA"
      },
      "source": [
        "based on the codes available with the book Dimensional Datawarehousing with MySQL https://brainysoftware.com/9780975212820 [archive](https://drive.google.com/open?id=1BeIC5uEMGu85PADHRN-Zpn3lmZ3ihrkE)"
      ]
    },
    {
      "cell_type": "markdown",
      "metadata": {
        "id": "OrqMBE2dMBSO"
      },
      "source": [
        "# Install MySQL"
      ]
    },
    {
      "cell_type": "code",
      "metadata": {
        "id": "prBPJ6B0LmuU",
        "colab": {
          "base_uri": "https://localhost:8080/",
          "height": 1000
        },
        "outputId": "cd9b1810-313a-4e7a-f70c-e4a14087b0bb"
      },
      "source": [
        "!apt -y install mysql-server"
      ],
      "execution_count": null,
      "outputs": [
        {
          "output_type": "stream",
          "text": [
            "Reading package lists... Done\n",
            "Building dependency tree       \n",
            "Reading state information... Done\n",
            "The following additional packages will be installed:\n",
            "  libcgi-fast-perl libcgi-pm-perl libencode-locale-perl libevent-core-2.1-6\n",
            "  libfcgi-perl libhtml-parser-perl libhtml-tagset-perl libhtml-template-perl\n",
            "  libhttp-date-perl libhttp-message-perl libio-html-perl\n",
            "  liblwp-mediatypes-perl libtimedate-perl liburi-perl mysql-client-5.7\n",
            "  mysql-client-core-5.7 mysql-server-5.7 mysql-server-core-5.7\n",
            "Suggested packages:\n",
            "  libdata-dump-perl libipc-sharedcache-perl libwww-perl mailx tinyca\n",
            "The following NEW packages will be installed:\n",
            "  libcgi-fast-perl libcgi-pm-perl libencode-locale-perl libevent-core-2.1-6\n",
            "  libfcgi-perl libhtml-parser-perl libhtml-tagset-perl libhtml-template-perl\n",
            "  libhttp-date-perl libhttp-message-perl libio-html-perl\n",
            "  liblwp-mediatypes-perl libtimedate-perl liburi-perl mysql-client-5.7\n",
            "  mysql-client-core-5.7 mysql-server mysql-server-5.7 mysql-server-core-5.7\n",
            "0 upgraded, 19 newly installed, 0 to remove and 21 not upgraded.\n",
            "Need to get 19.7 MB of archives.\n",
            "After this operation, 157 MB of additional disk space will be used.\n",
            "Get:1 http://archive.ubuntu.com/ubuntu bionic-updates/main amd64 mysql-client-core-5.7 amd64 5.7.31-0ubuntu0.18.04.1 [6,653 kB]\n",
            "Get:2 http://archive.ubuntu.com/ubuntu bionic-updates/main amd64 mysql-client-5.7 amd64 5.7.31-0ubuntu0.18.04.1 [1,948 kB]\n",
            "Get:3 http://archive.ubuntu.com/ubuntu bionic-updates/main amd64 mysql-server-core-5.7 amd64 5.7.31-0ubuntu0.18.04.1 [7,452 kB]\n",
            "Get:4 http://archive.ubuntu.com/ubuntu bionic/main amd64 libevent-core-2.1-6 amd64 2.1.8-stable-4build1 [85.9 kB]\n",
            "Get:5 http://archive.ubuntu.com/ubuntu bionic-updates/main amd64 mysql-server-5.7 amd64 5.7.31-0ubuntu0.18.04.1 [2,931 kB]\n",
            "Get:6 http://archive.ubuntu.com/ubuntu bionic/main amd64 libhtml-tagset-perl all 3.20-3 [12.1 kB]\n",
            "Get:7 http://archive.ubuntu.com/ubuntu bionic/main amd64 liburi-perl all 1.73-1 [77.2 kB]\n",
            "Get:8 http://archive.ubuntu.com/ubuntu bionic/main amd64 libhtml-parser-perl amd64 3.72-3build1 [85.9 kB]\n",
            "Get:9 http://archive.ubuntu.com/ubuntu bionic/main amd64 libcgi-pm-perl all 4.38-1 [185 kB]\n",
            "Get:10 http://archive.ubuntu.com/ubuntu bionic/main amd64 libfcgi-perl amd64 0.78-2build1 [32.8 kB]\n",
            "Get:11 http://archive.ubuntu.com/ubuntu bionic/main amd64 libcgi-fast-perl all 1:2.13-1 [9,940 B]\n",
            "Get:12 http://archive.ubuntu.com/ubuntu bionic/main amd64 libencode-locale-perl all 1.05-1 [12.3 kB]\n",
            "Get:13 http://archive.ubuntu.com/ubuntu bionic/main amd64 libhtml-template-perl all 2.97-1 [59.0 kB]\n",
            "Get:14 http://archive.ubuntu.com/ubuntu bionic/main amd64 libtimedate-perl all 2.3000-2 [37.5 kB]\n",
            "Get:15 http://archive.ubuntu.com/ubuntu bionic/main amd64 libhttp-date-perl all 6.02-1 [10.4 kB]\n",
            "Get:16 http://archive.ubuntu.com/ubuntu bionic/main amd64 libio-html-perl all 1.001-1 [14.9 kB]\n",
            "Get:17 http://archive.ubuntu.com/ubuntu bionic/main amd64 liblwp-mediatypes-perl all 6.02-1 [21.7 kB]\n",
            "Get:18 http://archive.ubuntu.com/ubuntu bionic/main amd64 libhttp-message-perl all 6.14-1 [72.1 kB]\n",
            "Get:19 http://archive.ubuntu.com/ubuntu bionic-updates/main amd64 mysql-server all 5.7.31-0ubuntu0.18.04.1 [9,948 B]\n",
            "Fetched 19.7 MB in 3s (7,819 kB/s)\n",
            "Preconfiguring packages ...\n",
            "Selecting previously unselected package mysql-client-core-5.7.\n",
            "(Reading database ... 144611 files and directories currently installed.)\n",
            "Preparing to unpack .../00-mysql-client-core-5.7_5.7.31-0ubuntu0.18.04.1_amd64.deb ...\n",
            "Unpacking mysql-client-core-5.7 (5.7.31-0ubuntu0.18.04.1) ...\n",
            "Selecting previously unselected package mysql-client-5.7.\n",
            "Preparing to unpack .../01-mysql-client-5.7_5.7.31-0ubuntu0.18.04.1_amd64.deb ...\n",
            "Unpacking mysql-client-5.7 (5.7.31-0ubuntu0.18.04.1) ...\n",
            "Selecting previously unselected package mysql-server-core-5.7.\n",
            "Preparing to unpack .../02-mysql-server-core-5.7_5.7.31-0ubuntu0.18.04.1_amd64.deb ...\n",
            "Unpacking mysql-server-core-5.7 (5.7.31-0ubuntu0.18.04.1) ...\n",
            "Selecting previously unselected package libevent-core-2.1-6:amd64.\n",
            "Preparing to unpack .../03-libevent-core-2.1-6_2.1.8-stable-4build1_amd64.deb ...\n",
            "Unpacking libevent-core-2.1-6:amd64 (2.1.8-stable-4build1) ...\n",
            "Selecting previously unselected package mysql-server-5.7.\n",
            "Preparing to unpack .../04-mysql-server-5.7_5.7.31-0ubuntu0.18.04.1_amd64.deb ...\n",
            "Unpacking mysql-server-5.7 (5.7.31-0ubuntu0.18.04.1) ...\n",
            "Selecting previously unselected package libhtml-tagset-perl.\n",
            "Preparing to unpack .../05-libhtml-tagset-perl_3.20-3_all.deb ...\n",
            "Unpacking libhtml-tagset-perl (3.20-3) ...\n",
            "Selecting previously unselected package liburi-perl.\n",
            "Preparing to unpack .../06-liburi-perl_1.73-1_all.deb ...\n",
            "Unpacking liburi-perl (1.73-1) ...\n",
            "Selecting previously unselected package libhtml-parser-perl.\n",
            "Preparing to unpack .../07-libhtml-parser-perl_3.72-3build1_amd64.deb ...\n",
            "Unpacking libhtml-parser-perl (3.72-3build1) ...\n",
            "Selecting previously unselected package libcgi-pm-perl.\n",
            "Preparing to unpack .../08-libcgi-pm-perl_4.38-1_all.deb ...\n",
            "Unpacking libcgi-pm-perl (4.38-1) ...\n",
            "Selecting previously unselected package libfcgi-perl.\n",
            "Preparing to unpack .../09-libfcgi-perl_0.78-2build1_amd64.deb ...\n",
            "Unpacking libfcgi-perl (0.78-2build1) ...\n",
            "Selecting previously unselected package libcgi-fast-perl.\n",
            "Preparing to unpack .../10-libcgi-fast-perl_1%3a2.13-1_all.deb ...\n",
            "Unpacking libcgi-fast-perl (1:2.13-1) ...\n",
            "Selecting previously unselected package libencode-locale-perl.\n",
            "Preparing to unpack .../11-libencode-locale-perl_1.05-1_all.deb ...\n",
            "Unpacking libencode-locale-perl (1.05-1) ...\n",
            "Selecting previously unselected package libhtml-template-perl.\n",
            "Preparing to unpack .../12-libhtml-template-perl_2.97-1_all.deb ...\n",
            "Unpacking libhtml-template-perl (2.97-1) ...\n",
            "Selecting previously unselected package libtimedate-perl.\n",
            "Preparing to unpack .../13-libtimedate-perl_2.3000-2_all.deb ...\n",
            "Unpacking libtimedate-perl (2.3000-2) ...\n",
            "Selecting previously unselected package libhttp-date-perl.\n",
            "Preparing to unpack .../14-libhttp-date-perl_6.02-1_all.deb ...\n",
            "Unpacking libhttp-date-perl (6.02-1) ...\n",
            "Selecting previously unselected package libio-html-perl.\n",
            "Preparing to unpack .../15-libio-html-perl_1.001-1_all.deb ...\n",
            "Unpacking libio-html-perl (1.001-1) ...\n",
            "Selecting previously unselected package liblwp-mediatypes-perl.\n",
            "Preparing to unpack .../16-liblwp-mediatypes-perl_6.02-1_all.deb ...\n",
            "Unpacking liblwp-mediatypes-perl (6.02-1) ...\n",
            "Selecting previously unselected package libhttp-message-perl.\n",
            "Preparing to unpack .../17-libhttp-message-perl_6.14-1_all.deb ...\n",
            "Unpacking libhttp-message-perl (6.14-1) ...\n",
            "Selecting previously unselected package mysql-server.\n",
            "Preparing to unpack .../18-mysql-server_5.7.31-0ubuntu0.18.04.1_all.deb ...\n",
            "Unpacking mysql-server (5.7.31-0ubuntu0.18.04.1) ...\n",
            "Setting up libhtml-tagset-perl (3.20-3) ...\n",
            "Setting up libevent-core-2.1-6:amd64 (2.1.8-stable-4build1) ...\n",
            "Setting up libencode-locale-perl (1.05-1) ...\n",
            "Setting up mysql-server-core-5.7 (5.7.31-0ubuntu0.18.04.1) ...\n",
            "Setting up libtimedate-perl (2.3000-2) ...\n",
            "Setting up libio-html-perl (1.001-1) ...\n",
            "Setting up liblwp-mediatypes-perl (6.02-1) ...\n",
            "Setting up liburi-perl (1.73-1) ...\n",
            "Setting up libhtml-parser-perl (3.72-3build1) ...\n",
            "Setting up libcgi-pm-perl (4.38-1) ...\n",
            "Setting up mysql-client-core-5.7 (5.7.31-0ubuntu0.18.04.1) ...\n",
            "Setting up libfcgi-perl (0.78-2build1) ...\n",
            "Setting up libhttp-date-perl (6.02-1) ...\n",
            "Setting up libhtml-template-perl (2.97-1) ...\n",
            "Setting up libcgi-fast-perl (1:2.13-1) ...\n",
            "Setting up libhttp-message-perl (6.14-1) ...\n",
            "Setting up mysql-client-5.7 (5.7.31-0ubuntu0.18.04.1) ...\n",
            "Setting up mysql-server-5.7 (5.7.31-0ubuntu0.18.04.1) ...\n",
            "invoke-rc.d: could not determine current runlevel\n",
            "invoke-rc.d: policy-rc.d denied execution of stop.\n",
            "update-alternatives: using /etc/mysql/mysql.cnf to provide /etc/mysql/my.cnf (my.cnf) in auto mode\n",
            "Renaming removed key_buffer and myisam-recover options (if present)\n",
            "Created symlink /etc/systemd/system/multi-user.target.wants/mysql.service → /lib/systemd/system/mysql.service.\n",
            "invoke-rc.d: could not determine current runlevel\n",
            "invoke-rc.d: policy-rc.d denied execution of start.\n",
            "Setting up mysql-server (5.7.31-0ubuntu0.18.04.1) ...\n",
            "Processing triggers for systemd (237-3ubuntu10.42) ...\n",
            "Processing triggers for man-db (2.8.3-2ubuntu0.1) ...\n",
            "Processing triggers for libc-bin (2.27-3ubuntu1.2) ...\n",
            "/sbin/ldconfig.real: /usr/local/lib/python3.6/dist-packages/ideep4py/lib/libmkldnn.so.0 is not a symbolic link\n",
            "\n"
          ],
          "name": "stdout"
        }
      ]
    },
    {
      "cell_type": "code",
      "metadata": {
        "id": "D9vAqG8cMmGr",
        "colab": {
          "base_uri": "https://localhost:8080/",
          "height": 102
        },
        "outputId": "ddac964c-8d47-4090-a156-36a144ffe939"
      },
      "source": [
        "!/etc/init.d/mysql restart"
      ],
      "execution_count": null,
      "outputs": [
        {
          "output_type": "stream",
          "text": [
            " * Stopping MySQL database server mysqld\n",
            "   ...done.\n",
            " * Starting MySQL database server mysqld\n",
            "No directory, logging in with HOME=/\n",
            "   ...done.\n"
          ],
          "name": "stdout"
        }
      ]
    },
    {
      "cell_type": "code",
      "metadata": {
        "id": "zYz_FGo7MqQZ",
        "colab": {
          "base_uri": "https://localhost:8080/",
          "height": 153
        },
        "outputId": "aa812a59-fb53-4d51-e5cd-9384da069010"
      },
      "source": [
        "!mysql -e 'show databases'"
      ],
      "execution_count": null,
      "outputs": [
        {
          "output_type": "stream",
          "text": [
            "+--------------------+\n",
            "| Database           |\n",
            "+--------------------+\n",
            "| information_schema |\n",
            "| mysql              |\n",
            "| performance_schema |\n",
            "| sys                |\n",
            "+--------------------+\n"
          ],
          "name": "stdout"
        }
      ]
    },
    {
      "cell_type": "markdown",
      "metadata": {
        "id": "nOQvvyv1M7fv"
      },
      "source": [
        "#Get Code & Data Files"
      ]
    },
    {
      "cell_type": "code",
      "metadata": {
        "id": "c1EmoFsTM_6P",
        "colab": {
          "base_uri": "https://localhost:8080/",
          "height": 204
        },
        "outputId": "85d403e6-047f-4b59-891a-c774547471d6"
      },
      "source": [
        "!wget https://brainysoftware.com/source/9780975212820.zip"
      ],
      "execution_count": null,
      "outputs": [
        {
          "output_type": "stream",
          "text": [
            "--2020-10-17 16:41:48--  https://brainysoftware.com/source/9780975212820.zip\n",
            "Resolving brainysoftware.com (brainysoftware.com)... 192.241.166.210\n",
            "Connecting to brainysoftware.com (brainysoftware.com)|192.241.166.210|:443... connected.\n",
            "HTTP request sent, awaiting response... 200 \n",
            "Length: 166447 (163K) [application/zip]\n",
            "Saving to: ‘9780975212820.zip’\n",
            "\n",
            "9780975212820.zip   100%[===================>] 162.55K  --.-KB/s    in 0.1s    \n",
            "\n",
            "2020-10-17 16:41:49 (1.27 MB/s) - ‘9780975212820.zip’ saved [166447/166447]\n",
            "\n"
          ],
          "name": "stdout"
        }
      ]
    },
    {
      "cell_type": "code",
      "metadata": {
        "id": "Nwt2TeOCNGjW",
        "colab": {
          "base_uri": "https://localhost:8080/",
          "height": 1000
        },
        "outputId": "8872b986-2bf3-4b8d-9c06-df09f18a07b8"
      },
      "source": [
        "!unzip 9780975212820.zip"
      ],
      "execution_count": null,
      "outputs": [
        {
          "output_type": "stream",
          "text": [
            "Archive:  9780975212820.zip\n",
            "   creating: scripts/\n",
            "  inflating: scripts/across_all_dimensions.sql  \n",
            "  inflating: scripts/across_date.sql  \n",
            "  inflating: scripts/across_date_customer.sql  \n",
            "  inflating: scripts/across_date_product.sql  \n",
            "  inflating: scripts/additive_data.sql  \n",
            "  inflating: scripts/add_campaign_session.sql  \n",
            "  inflating: scripts/add_four_milestones.sql  \n",
            "  inflating: scripts/add_sales_order_quantity.sql  \n",
            "  inflating: scripts/add_two_sales_orders.sql  \n",
            "  inflating: scripts/annual_aggregation.sql  \n",
            "  inflating: scripts/annual_tables.sql  \n",
            "  inflating: scripts/balance_across_months.sql  \n",
            "  inflating: scripts/balance_across_products.sql  \n",
            "  inflating: scripts/band_dim.sql    \n",
            "  inflating: scripts/band_ini.sql    \n",
            "  inflating: scripts/band_regular.sql  \n",
            "  inflating: scripts/campaign_session.sql  \n",
            "  inflating: scripts/campaign_session_20.sql  \n",
            "  inflating: scripts/campaign_session_21.sql  \n",
            "  inflating: scripts/campaign_session_path.sql  \n",
            "  inflating: scripts/campaign_stg_20.sql  \n",
            "  inflating: scripts/campaign_stg_21.sql  \n",
            "  inflating: scripts/confirm_initial_population.sql  \n",
            "  inflating: scripts/create_campaign_stg.sql  \n",
            "  inflating: scripts/create_customer_stg.sql  \n",
            "  inflating: scripts/create_databases.sql  \n",
            "  inflating: scripts/create_dw_tables.sql  \n",
            "  inflating: scripts/create_four_date_views.sql  \n",
            "  inflating: scripts/create_month_end_sales_order_fact.sql  \n",
            "  inflating: scripts/create_product_stg.sql  \n",
            "  inflating: scripts/create_promo_schedule_stg.sql  \n",
            "  inflating: scripts/create_sales_order.sql  \n",
            "  inflating: scripts/create_user_id.sql  \n",
            "  inflating: scripts/customer_sk.sql  \n",
            "  inflating: scripts/daily_aggregation.sql  \n",
            "  inflating: scripts/daily_date.sql  \n",
            "  inflating: scripts/daily_production.sql  \n",
            "  inflating: scripts/daily_production_23.sql  \n",
            "  inflating: scripts/daily_production_data.sql  \n",
            "  inflating: scripts/database_view.sql  \n",
            "  inflating: scripts/date_views.sql  \n",
            "  inflating: scripts/date_view_22.sql  \n",
            "  inflating: scripts/degenerate.sql  \n",
            "  inflating: scripts/dimensional_query_data.sql  \n",
            "  inflating: scripts/drilling.sql    \n",
            "  inflating: scripts/dw_initial.sql  \n",
            "  inflating: scripts/dw_regular.sql  \n",
            "  inflating: scripts/dw_regular_10.sql  \n",
            "  inflating: scripts/dw_regular_11.sql  \n",
            "  inflating: scripts/dw_regular_12.sql  \n",
            "  inflating: scripts/dw_regular_13.sql  \n",
            "  inflating: scripts/dw_regular_14.sql  \n",
            "  inflating: scripts/dw_regular_17.sql  \n",
            "  inflating: scripts/dw_regular_18.sql  \n",
            "  inflating: scripts/dw_regular_21.sql  \n",
            "  inflating: scripts/dw_regular_22.sql  \n",
            "  inflating: scripts/dw_regular_23.sql  \n",
            "  inflating: scripts/entry_date.sql  \n",
            "  inflating: scripts/factory_ini.sql  \n",
            "  inflating: scripts/factory_master.sql  \n",
            "  inflating: scripts/factory_master_source.sql  \n",
            "  inflating: scripts/factory_stg.sql  \n",
            "  inflating: scripts/fill_help_tables.sql  \n",
            "  inflating: scripts/filtered_month_end_sales_order_fact.sql  \n",
            "  inflating: scripts/grouping.sql    \n",
            "  inflating: scripts/jan_month_end_balance_regular.sql  \n",
            "  inflating: scripts/junk_dim.sql    \n",
            "  inflating: scripts/load_product_stg.sql  \n",
            "  inflating: scripts/loyal_customer.sql  \n",
            "  inflating: scripts/monthly_product_performer.sql  \n",
            "  inflating: scripts/monthly_storage.sql  \n",
            "  inflating: scripts/month_end_balance_fact.sql  \n",
            "  inflating: scripts/month_end_balance_initial.sql  \n",
            "  inflating: scripts/month_end_balance_regular.sql  \n",
            "  inflating: scripts/month_end_sales_order.sql  \n",
            "  inflating: scripts/month_end_sales_order_22.sql  \n",
            "  inflating: scripts/month_rollup_dim.sql  \n",
            "  inflating: scripts/more_customer_sk.sql  \n",
            "  inflating: scripts/more_sales_order.sql  \n",
            "  inflating: scripts/mysql_fix_privilege_tables.sql  \n",
            "  inflating: scripts/new_customer_credit_check.sql  \n",
            "  inflating: scripts/non_pa_customer.sql  \n",
            "  inflating: scripts/nullify_campaign_session.sql  \n",
            "  inflating: scripts/on_demand.sql   \n",
            "  inflating: scripts/order_quantity.sql  \n",
            "  inflating: scripts/order_status.sql  \n",
            "  inflating: scripts/pa_customer.sql  \n",
            "  inflating: scripts/pre_populate_date.sql  \n",
            "  inflating: scripts/pre_populate_date_12.sql  \n",
            "  inflating: scripts/pre_populate_date_13.sql  \n",
            "  inflating: scripts/production_fact_23.sql  \n",
            "  inflating: scripts/production_regular.sql  \n",
            "  inflating: scripts/production_regular_23.sql  \n",
            "  inflating: scripts/product_count.sql  \n",
            "  inflating: scripts/product_count_ini.sql  \n",
            "  inflating: scripts/product_launch_date_dim.sql  \n",
            "  inflating: scripts/promotion_indicator.sql  \n",
            "  inflating: scripts/push_data.sql   \n",
            "  inflating: scripts/push_sales_order.sql  \n",
            "  inflating: scripts/quarterly_mechanicsburg.sql  \n",
            "  inflating: scripts/quarter_path.sql  \n",
            "  inflating: scripts/ragged_campaign.sql  \n",
            "  inflating: scripts/readme 1st      \n",
            "  inflating: scripts/readme 1st for scripts.txt  \n",
            "  inflating: scripts/remove_campaign.sql  \n",
            "  inflating: scripts/request_delivery_date.sql  \n",
            "  inflating: scripts/request_delivery_date_sk.sql  \n",
            "  inflating: scripts/request_delivery_date_source.sql  \n",
            "  inflating: scripts/sales_orders_24_ini.sql  \n",
            "  inflating: scripts/sales_orders_24_reg.sql  \n",
            "  inflating: scripts/sales_orders_step3.sql  \n",
            "  inflating: scripts/sales_orders_step5.sql  \n",
            "  inflating: scripts/sales_order_17.sql  \n",
            "  inflating: scripts/sales_order_18.sql  \n",
            "  inflating: scripts/sales_order_22.sql  \n",
            "  inflating: scripts/sales_order_23.sql  \n",
            "  inflating: scripts/sales_order_attributes.sql  \n",
            "  inflating: scripts/sales_order_attribute_sk.sql  \n",
            "  inflating: scripts/sales_order_fact_23.sql  \n",
            "  inflating: scripts/sales_order_initial.sql  \n",
            "  inflating: scripts/sales_order_quantity_data.sql  \n",
            "  inflating: scripts/sales_order_regular.sql  \n",
            "  inflating: scripts/scd1.sql        \n",
            "  inflating: scripts/scd2.sql        \n",
            "  inflating: scripts/segmentation.sql  \n",
            "  inflating: scripts/shipping_address.sql  \n",
            "  inflating: scripts/source_date.sql  \n",
            "  inflating: scripts/special_dates.sql  \n",
            "  inflating: scripts/table_alias.sql  \n",
            "  inflating: scripts/third_star_tables.sql  \n",
            "  inflating: scripts/track_launch_expiry.sql  \n",
            "  inflating: scripts/truncate_tables.sql  \n",
            "  inflating: scripts/two_more_customers.sql  \n",
            "  inflating: scripts/zip_code_dim.sql  \n",
            "  inflating: scripts/zip_code_population.sql  \n",
            "  inflating: scripts/zip_code_stg.sql  \n",
            "   creating: source_data/\n",
            "  inflating: source_data/campaign_session.csv  \n",
            "  inflating: source_data/customer10.csv  \n",
            "  inflating: source_data/customer2.csv  \n",
            "  inflating: source_data/customer23.csv  \n",
            "  inflating: source_data/customer8.csv  \n",
            "  inflating: source_data/factory19.csv  \n",
            "  inflating: source_data/factory23.csv  \n",
            "  inflating: source_data/non_straight_campaign.csv  \n",
            "  inflating: source_data/product2-1.txt  \n",
            "  inflating: source_data/product2-2.txt  \n",
            "  inflating: source_data/product21.txt  \n",
            "  inflating: source_data/product8.txt  \n",
            "  inflating: source_data/promo_schedule.csv  \n",
            "  inflating: source_data/ragged_campaign.csv  \n",
            "  inflating: source_data/readme 1st for data.txt  \n",
            "  inflating: source_data/zip_code.csv  \n"
          ],
          "name": "stdout"
        }
      ]
    },
    {
      "cell_type": "markdown",
      "metadata": {
        "id": "Zil5Adr9VaBJ"
      },
      "source": [
        "#Part 1 - Fundamentals"
      ]
    },
    {
      "cell_type": "markdown",
      "metadata": {
        "id": "QEpHP07dO4rw"
      },
      "source": [
        "## Chapter 1 Initial Setup"
      ]
    },
    {
      "cell_type": "code",
      "metadata": {
        "id": "cSLD3G1wO8jU"
      },
      "source": [
        "#Create User ID\n",
        "#!cat scripts/create_user_id.sql\n",
        "!mysql < scripts/create_user_id.sql"
      ],
      "execution_count": null,
      "outputs": []
    },
    {
      "cell_type": "markdown",
      "metadata": {
        "id": "Yn51h-0AANaa"
      },
      "source": [
        "### Creating the Databases\n",
        "There are two databases you need to create, source and dw. The source database stores your data, namely the data that will be the source of your data warehouse. The dw database is for the data warehouse.\n",
        "\n"
      ]
    },
    {
      "cell_type": "code",
      "metadata": {
        "id": "lTv3xq9zPpfN",
        "colab": {
          "base_uri": "https://localhost:8080/",
          "height": 34
        },
        "outputId": "38ec5eb8-c724-4cf5-ab8f-6d85212672e7"
      },
      "source": [
        "#!cat scripts/create_databases.sql\n",
        "!mysql -udwid -ppw < scripts/create_databases.sql"
      ],
      "execution_count": null,
      "outputs": [
        {
          "output_type": "stream",
          "text": [
            "mysql: [Warning] Using a password on the command line interface can be insecure.\n"
          ],
          "name": "stdout"
        }
      ]
    },
    {
      "cell_type": "code",
      "metadata": {
        "id": "eHiL5EQ0_bz4",
        "colab": {
          "base_uri": "https://localhost:8080/",
          "height": 102
        },
        "outputId": "5e4687b3-5c25-4d1a-c6e7-dbcc5215e80b"
      },
      "source": [
        "!mysql dw -e \"show databases like 'dw'\""
      ],
      "execution_count": null,
      "outputs": [
        {
          "output_type": "stream",
          "text": [
            "+---------------+\n",
            "| Database (dw) |\n",
            "+---------------+\n",
            "| dw            |\n",
            "+---------------+\n"
          ],
          "name": "stdout"
        }
      ]
    },
    {
      "cell_type": "code",
      "metadata": {
        "id": "Lz8FhDZi_pYb",
        "colab": {
          "base_uri": "https://localhost:8080/",
          "height": 102
        },
        "outputId": "3b3ad1e3-6a6e-4f08-f6fe-bb78550572ad"
      },
      "source": [
        "!mysql dw -e \"show databases like 'source';\""
      ],
      "execution_count": null,
      "outputs": [
        {
          "output_type": "stream",
          "text": [
            "+-------------------+\n",
            "| Database (source) |\n",
            "+-------------------+\n",
            "| source            |\n",
            "+-------------------+\n"
          ],
          "name": "stdout"
        }
      ]
    },
    {
      "cell_type": "markdown",
      "metadata": {
        "id": "E68_9SK2AuAC"
      },
      "source": [
        "### Creating Data Warehouse Tables\n",
        "The next step is to create data warehouse tables in the dw database. You can use the create_dw_tables.sql script\n"
      ]
    },
    {
      "cell_type": "code",
      "metadata": {
        "id": "rHQbTlYeQK9i",
        "colab": {
          "base_uri": "https://localhost:8080/",
          "height": 34
        },
        "outputId": "3ff972c3-56a7-4d01-ab35-5b196fc53416"
      },
      "source": [
        "#!cat scripts/create_dw_tables.sql\n",
        "!mysql -udwid -ppw < scripts/create_dw_tables.sql"
      ],
      "execution_count": null,
      "outputs": [
        {
          "output_type": "stream",
          "text": [
            "mysql: [Warning] Using a password on the command line interface can be insecure.\n"
          ],
          "name": "stdout"
        }
      ]
    },
    {
      "cell_type": "code",
      "metadata": {
        "id": "iokF4U1yT4i-",
        "colab": {
          "base_uri": "https://localhost:8080/",
          "height": 170
        },
        "outputId": "dc4efaad-9e83-41cc-addc-9e679fca68e4"
      },
      "source": [
        "!mysql dw -e \"show tables\""
      ],
      "execution_count": null,
      "outputs": [
        {
          "output_type": "stream",
          "text": [
            "+------------------+\n",
            "| Tables_in_dw     |\n",
            "+------------------+\n",
            "| customer_dim     |\n",
            "| date_dim         |\n",
            "| order_dim        |\n",
            "| product_dim      |\n",
            "| sales_order_fact |\n",
            "+------------------+\n"
          ],
          "name": "stdout"
        }
      ]
    },
    {
      "cell_type": "markdown",
      "metadata": {
        "id": "nwNXLyr7GLh7"
      },
      "source": [
        "### Generating Surrogate Keys\n",
        "Generate surrogate keys using the customer_sk.sql script \n"
      ]
    },
    {
      "cell_type": "code",
      "metadata": {
        "id": "pwpjWuikUj-E",
        "colab": {
          "base_uri": "https://localhost:8080/",
          "height": 34
        },
        "outputId": "72ef2fac-1d69-4786-af8f-625ba21c0dd4"
      },
      "source": [
        "!mysql -udwid -ppw < scripts/customer_sk.sql"
      ],
      "execution_count": null,
      "outputs": [
        {
          "output_type": "stream",
          "text": [
            "mysql: [Warning] Using a password on the command line interface can be insecure.\n"
          ],
          "name": "stdout"
        }
      ]
    },
    {
      "cell_type": "markdown",
      "metadata": {
        "id": "gRC3gw6UHWnE"
      },
      "source": [
        "### Populating the customer_dim dimension table with data"
      ]
    },
    {
      "cell_type": "code",
      "metadata": {
        "id": "kjlbWVCtUpoA",
        "colab": {
          "base_uri": "https://localhost:8080/",
          "height": 34
        },
        "outputId": "56f006b4-c958-4c84-d7c9-b0a8fd774d91"
      },
      "source": [
        "!mysql -udwid -ppw < scripts/more_customer_sk.sql"
      ],
      "execution_count": null,
      "outputs": [
        {
          "output_type": "stream",
          "text": [
            "mysql: [Warning] Using a password on the command line interface can be insecure.\n"
          ],
          "name": "stdout"
        }
      ]
    },
    {
      "cell_type": "code",
      "metadata": {
        "id": "WWihWfsgVBOI",
        "colab": {
          "base_uri": "https://localhost:8080/",
          "height": 187
        },
        "outputId": "60418019-de81-4873-b4c4-db7b14c37d63"
      },
      "source": [
        "!mysql dw -e \"select * from customer_dim\""
      ],
      "execution_count": null,
      "outputs": [
        {
          "output_type": "stream",
          "text": [
            "+-------------+-----------------+------------------+-------------------------+-------------------+---------------+----------------+----------------+-------------+\n",
            "| customer_sk | customer_number | customer_name    | customer_street_address | customer_zip_code | customer_city | customer_state | effective_date | expiry_date |\n",
            "+-------------+-----------------+------------------+-------------------------+-------------------+---------------+----------------+----------------+-------------+\n",
            "|           1 |               1 | Big Customers    | 7500 Louise Dr.         |             17050 | Mechanicsburg | PA             | 2020-10-17     | 9999-12-31  |\n",
            "|           2 |               2 | Small Stores     | 2500 Woodland St.       |             17055 | Pittsburgh    | PA             | 2020-10-17     | 9999-12-31  |\n",
            "|           3 |               3 | Medium Retailers | 1111 Ritter Rd.         |             17055 | Pittsburgh    | PA             | 2020-10-17     | 9999-12-31  |\n",
            "|           4 |               4 | Good Companies   | 9500 Scott St.          |             17050 | Mechanicsburg | PA             | 2020-10-17     | 9999-12-31  |\n",
            "|           5 |               5 | Wonderful Shops  | 3333 Rossmoyne Rd.      |             17050 | Mechanicsburg | PA             | 2020-10-17     | 9999-12-31  |\n",
            "|           6 |               6 | Loyal Clients    | 7070 Ritter Rd.         |             17055 | Pittsburgh    | PA             | 2020-10-17     | 9999-12-31  |\n",
            "+-------------+-----------------+------------------+-------------------------+-------------------+---------------+----------------+----------------+-------------+\n"
          ],
          "name": "stdout"
        }
      ]
    },
    {
      "cell_type": "markdown",
      "metadata": {
        "id": "XHC8sTMPGr4V"
      },
      "source": [
        "CURRENT_DATE function used in the customer_sk.sql script uses the operating system date to populate the effective_date column. Therefore we have to update MySQL date by updating the date to the specified date. \n"
      ]
    },
    {
      "cell_type": "code",
      "metadata": {
        "id": "bn6YCvqjVJEN"
      },
      "source": [
        "#since it was not possible to set the system date on Colab, the date was changed manually\n",
        "!mysql dw -e \"update customer_dim set effective_date = '2007-02-01' \""
      ],
      "execution_count": null,
      "outputs": []
    },
    {
      "cell_type": "code",
      "metadata": {
        "id": "oaibHoSuVNAy",
        "colab": {
          "base_uri": "https://localhost:8080/",
          "height": 187
        },
        "outputId": "8d549aa6-6f80-43b8-f382-9257508273c2"
      },
      "source": [
        "!mysql dw -e \"select * from customer_dim\""
      ],
      "execution_count": null,
      "outputs": [
        {
          "output_type": "stream",
          "text": [
            "+-------------+-----------------+------------------+-------------------------+-------------------+---------------+----------------+----------------+-------------+\n",
            "| customer_sk | customer_number | customer_name    | customer_street_address | customer_zip_code | customer_city | customer_state | effective_date | expiry_date |\n",
            "+-------------+-----------------+------------------+-------------------------+-------------------+---------------+----------------+----------------+-------------+\n",
            "|           1 |               1 | Big Customers    | 7500 Louise Dr.         |             17050 | Mechanicsburg | PA             | 2007-02-01     | 9999-12-31  |\n",
            "|           2 |               2 | Small Stores     | 2500 Woodland St.       |             17055 | Pittsburgh    | PA             | 2007-02-01     | 9999-12-31  |\n",
            "|           3 |               3 | Medium Retailers | 1111 Ritter Rd.         |             17055 | Pittsburgh    | PA             | 2007-02-01     | 9999-12-31  |\n",
            "|           4 |               4 | Good Companies   | 9500 Scott St.          |             17050 | Mechanicsburg | PA             | 2007-02-01     | 9999-12-31  |\n",
            "|           5 |               5 | Wonderful Shops  | 3333 Rossmoyne Rd.      |             17050 | Mechanicsburg | PA             | 2007-02-01     | 9999-12-31  |\n",
            "|           6 |               6 | Loyal Clients    | 7070 Ritter Rd.         |             17055 | Pittsburgh    | PA             | 2007-02-01     | 9999-12-31  |\n",
            "+-------------+-----------------+------------------+-------------------------+-------------------+---------------+----------------+----------------+-------------+\n"
          ],
          "name": "stdout"
        }
      ]
    },
    {
      "cell_type": "code",
      "metadata": {
        "id": "TMHAaTYl2CsY"
      },
      "source": [
        "!mysql dw -e \"CREATE TABLE customer_stg \\\n",
        "(customer_number INT, customer_name CHAR (30), customer_street_address CHAR (30), customer_zip_code INT (5), customer_city CHAR (30), customer_state CHAR (2))\""
      ],
      "execution_count": null,
      "outputs": []
    },
    {
      "cell_type": "code",
      "metadata": {
        "id": "d3gV3p01LJIQ",
        "colab": {
          "base_uri": "https://localhost:8080/",
          "height": 187
        },
        "outputId": "fc706c96-7ccf-48ec-8f1c-6b46f8337120"
      },
      "source": [
        "!mysql dw -e \"show tables\""
      ],
      "execution_count": null,
      "outputs": [
        {
          "output_type": "stream",
          "text": [
            "+------------------+\n",
            "| Tables_in_dw     |\n",
            "+------------------+\n",
            "| customer_dim     |\n",
            "| customer_stg     |\n",
            "| date_dim         |\n",
            "| order_dim        |\n",
            "| product_dim      |\n",
            "| sales_order_fact |\n",
            "+------------------+\n"
          ],
          "name": "stdout"
        }
      ]
    },
    {
      "cell_type": "code",
      "metadata": {
        "id": "YgjWX3OFMQ3h"
      },
      "source": [
        "!mysql dw -e \"TRUNCATE customer_stg\""
      ],
      "execution_count": null,
      "outputs": []
    },
    {
      "cell_type": "code",
      "metadata": {
        "id": "obVAzuW5MhEw"
      },
      "source": [
        "!mysql dw -e 'LOAD DATA LOCAL INFILE \"source_data/customer2.csv \" \\\n",
        "INTO TABLE customer_stg \\\n",
        "FIELDS TERMINATED BY \",\" \\\n",
        "OPTIONALLY ENCLOSED BY \"\" \\\n",
        "LINES TERMINATED BY \"\\r\\n\" \\\n",
        "IGNORE 1 LINES \\\n",
        "( customer_number \\\n",
        ", customer_name \\\n",
        ", customer_street_address \\\n",
        ", customer_zip_code \\\n",
        ", customer_city \\\n",
        ", customer_state )'"
      ],
      "execution_count": null,
      "outputs": []
    },
    {
      "cell_type": "code",
      "metadata": {
        "id": "cyKkS1FSM0Oy",
        "colab": {
          "base_uri": "https://localhost:8080/",
          "height": 187
        },
        "outputId": "d9dcf298-43a0-449c-9696-02f8c3558cc0"
      },
      "source": [
        "!mysql dw -e  ' desc customer_stg'"
      ],
      "execution_count": null,
      "outputs": [
        {
          "output_type": "stream",
          "text": [
            "+-------------------------+----------+------+-----+---------+-------+\n",
            "| Field                   | Type     | Null | Key | Default | Extra |\n",
            "+-------------------------+----------+------+-----+---------+-------+\n",
            "| customer_number         | int(11)  | YES  |     | NULL    |       |\n",
            "| customer_name           | char(30) | YES  |     | NULL    |       |\n",
            "| customer_street_address | char(30) | YES  |     | NULL    |       |\n",
            "| customer_zip_code       | int(5)   | YES  |     | NULL    |       |\n",
            "| customer_city           | char(30) | YES  |     | NULL    |       |\n",
            "| customer_state          | char(2)  | YES  |     | NULL    |       |\n",
            "+-------------------------+----------+------+-----+---------+-------+\n"
          ],
          "name": "stdout"
        }
      ]
    },
    {
      "cell_type": "markdown",
      "metadata": {
        "id": "Z0Vc2iVDH0Wr"
      },
      "source": [
        "## Chapter 2: Dimension History"
      ]
    },
    {
      "cell_type": "markdown",
      "metadata": {
        "id": "UMJ8RxlCID13"
      },
      "source": [
        "The data values stored in a dimension table are called dimensions. The product_dim table in Chapter 1, for example, contains product dimensions.\n",
        "\n",
        "Most dimensions change over time. Customers change addresses, products get renamed and recategorized, sales orders get corrected, etc. When a dimension changes, such as when a product gets a new category, we must maintain the dimension history. \n",
        "\n",
        "Slowly Changing Dimension (SCD) is the technique for implementing dimension history in a dimensional data warehouse\n",
        "\n",
        "###Slowly Changing Dimension Techniques\n",
        "\n",
        "There are three variants of the SCD technique: SCD Type 1 (SCD1), SCD Type 2 (SCD2), and SCD Type 3 (SCD3). \n",
        "\n",
        "SCD1 updates dimension records by overwriting the existing data-no history of the records is maintained. SCD1 is normally used to directly rectify incorrect data.\n",
        "\n",
        "SCD2 maintains dimension history by creating newer ‘versions’ of a dimension record whenever its source changes. SCD2 does not delete or modify existing data. \n",
        "\n",
        "SCD3 keeps one version of a dimension record. It keeps history by allocating more than one column for a data unit to maintain its history. \n"
      ]
    },
    {
      "cell_type": "code",
      "metadata": {
        "id": "mWV-g42MMr_Y",
        "colab": {
          "base_uri": "https://localhost:8080/",
          "height": 204
        },
        "outputId": "0a03caab-c73d-44de-b796-42f7902d3a9f"
      },
      "source": [
        "!mysql dw -e \"select * from customer_stg\""
      ],
      "execution_count": null,
      "outputs": [
        {
          "output_type": "stream",
          "text": [
            "+-----------------+------------------------+-------------------------+-------------------+---------------+----------------+\n",
            "| customer_number | customer_name          | customer_street_address | customer_zip_code | customer_city | customer_state |\n",
            "+-----------------+------------------------+-------------------------+-------------------+---------------+----------------+\n",
            "|               1 | Really Large Customers | 7500 Louise Dr.         |             17050 | Mechanicsburg | PA             |\n",
            "|               2 | Small Stores           | 2500 Woodland St.       |             17055 | Pittsburgh    | PA             |\n",
            "|               3 | Medium Retailers       | 1111 Ritter Rd.         |             17055 | Pittsburgh    | PA             |\n",
            "|               4 | Good Companies         | 9500 Scott St.          |             17050 | Mechanicsburg | PA             |\n",
            "|               5 | Wonderful Shops        | 3333 Rossmoyne Rd.      |             17050 | Mechanicsburg | PA             |\n",
            "|               6 | Loyal Clients          | 7070 Ritter Rd.         |             17055 | Pittsburgh    | PA             |\n",
            "|               7 | Distinguished Partners | 9999 Scott St.          |             17050 | Mechanicsburg | PA             |\n",
            "+-----------------+------------------------+-------------------------+-------------------+---------------+----------------+\n"
          ],
          "name": "stdout"
        }
      ]
    },
    {
      "cell_type": "code",
      "metadata": {
        "id": "I7bzCPYFM-w2",
        "colab": {
          "base_uri": "https://localhost:8080/",
          "height": 187
        },
        "outputId": "9c206029-ea71-4af8-985b-01b55c272578"
      },
      "source": [
        "!mysql dw -e 'select * from customer_dim'"
      ],
      "execution_count": null,
      "outputs": [
        {
          "output_type": "stream",
          "text": [
            "+-------------+-----------------+------------------+-------------------------+-------------------+---------------+----------------+----------------+-------------+\n",
            "| customer_sk | customer_number | customer_name    | customer_street_address | customer_zip_code | customer_city | customer_state | effective_date | expiry_date |\n",
            "+-------------+-----------------+------------------+-------------------------+-------------------+---------------+----------------+----------------+-------------+\n",
            "|           1 |               1 | Big Customers    | 7500 Louise Dr.         |             17050 | Mechanicsburg | PA             | 2007-02-01     | 9999-12-31  |\n",
            "|           2 |               2 | Small Stores     | 2500 Woodland St.       |             17055 | Pittsburgh    | PA             | 2007-02-01     | 9999-12-31  |\n",
            "|           3 |               3 | Medium Retailers | 1111 Ritter Rd.         |             17055 | Pittsburgh    | PA             | 2007-02-01     | 9999-12-31  |\n",
            "|           4 |               4 | Good Companies   | 9500 Scott St.          |             17050 | Mechanicsburg | PA             | 2007-02-01     | 9999-12-31  |\n",
            "|           5 |               5 | Wonderful Shops  | 3333 Rossmoyne Rd.      |             17050 | Mechanicsburg | PA             | 2007-02-01     | 9999-12-31  |\n",
            "|           6 |               6 | Loyal Clients    | 7070 Ritter Rd.         |             17055 | Pittsburgh    | PA             | 2007-02-01     | 9999-12-31  |\n",
            "+-------------+-----------------+------------------+-------------------------+-------------------+---------------+----------------+----------------+-------------+\n"
          ],
          "name": "stdout"
        }
      ]
    },
    {
      "cell_type": "code",
      "metadata": {
        "id": "bjtRna5rt3-C"
      },
      "source": [
        "#updating the name of existing customer\n",
        "!mysql dw -e 'UPDATE customer_dim a, customer_stg b SET a.customer_name = b.customer_name \\\n",
        "WHERE a.customer_number = b.customer_number \\\n",
        "AND a.expiry_date = \"9999-12-31\" \\\n",
        "AND a.customer_name <> b.customer_name'"
      ],
      "execution_count": null,
      "outputs": []
    },
    {
      "cell_type": "code",
      "metadata": {
        "id": "03TOCjbUuQto",
        "colab": {
          "base_uri": "https://localhost:8080/",
          "height": 187
        },
        "outputId": "9d3ec0b4-787d-4533-cf73-bc858a1a8fef"
      },
      "source": [
        "!mysql dw -e 'select * from customer_dim'"
      ],
      "execution_count": null,
      "outputs": [
        {
          "output_type": "stream",
          "text": [
            "+-------------+-----------------+------------------------+-------------------------+-------------------+---------------+----------------+----------------+-------------+\n",
            "| customer_sk | customer_number | customer_name          | customer_street_address | customer_zip_code | customer_city | customer_state | effective_date | expiry_date |\n",
            "+-------------+-----------------+------------------------+-------------------------+-------------------+---------------+----------------+----------------+-------------+\n",
            "|           1 |               1 | Really Large Customers | 7500 Louise Dr.         |             17050 | Mechanicsburg | PA             | 2007-02-01     | 9999-12-31  |\n",
            "|           2 |               2 | Small Stores           | 2500 Woodland St.       |             17055 | Pittsburgh    | PA             | 2007-02-01     | 9999-12-31  |\n",
            "|           3 |               3 | Medium Retailers       | 1111 Ritter Rd.         |             17055 | Pittsburgh    | PA             | 2007-02-01     | 9999-12-31  |\n",
            "|           4 |               4 | Good Companies         | 9500 Scott St.          |             17050 | Mechanicsburg | PA             | 2007-02-01     | 9999-12-31  |\n",
            "|           5 |               5 | Wonderful Shops        | 3333 Rossmoyne Rd.      |             17050 | Mechanicsburg | PA             | 2007-02-01     | 9999-12-31  |\n",
            "|           6 |               6 | Loyal Clients          | 7070 Ritter Rd.         |             17055 | Pittsburgh    | PA             | 2007-02-01     | 9999-12-31  |\n",
            "+-------------+-----------------+------------------------+-------------------------+-------------------+---------------+----------------+----------------+-------------+\n"
          ],
          "name": "stdout"
        }
      ]
    },
    {
      "cell_type": "markdown",
      "metadata": {
        "id": "MEKSxl_kuZNR"
      },
      "source": [
        "**It can be seen that the name has been updated in the Dimension Table without saving the History or record of previous name of Customer**"
      ]
    },
    {
      "cell_type": "markdown",
      "metadata": {
        "id": "tUtI4aA9zFV5"
      },
      "source": [
        "### SCD2"
      ]
    },
    {
      "cell_type": "code",
      "metadata": {
        "id": "51PrciBNuUzv"
      },
      "source": [
        " !mysql dw -e 'CREATE TABLE product_stg (product_code INT,product_name CHAR(30),product_category CHAR(30))'"
      ],
      "execution_count": null,
      "outputs": []
    },
    {
      "cell_type": "code",
      "metadata": {
        "id": "uvTt1_oMzKiH",
        "colab": {
          "base_uri": "https://localhost:8080/",
          "height": 204
        },
        "outputId": "0cd26a24-4e09-4b03-d93e-8df0c7d18954"
      },
      "source": [
        "!mysql dw -e 'show tables'"
      ],
      "execution_count": null,
      "outputs": [
        {
          "output_type": "stream",
          "text": [
            "+------------------+\n",
            "| Tables_in_dw     |\n",
            "+------------------+\n",
            "| customer_dim     |\n",
            "| customer_stg     |\n",
            "| date_dim         |\n",
            "| order_dim        |\n",
            "| product_dim      |\n",
            "| product_stg      |\n",
            "| sales_order_fact |\n",
            "+------------------+\n"
          ],
          "name": "stdout"
        }
      ]
    },
    {
      "cell_type": "code",
      "metadata": {
        "id": "efo7l0yOzQrQ"
      },
      "source": [
        "!mysql dw -e \"TRUNCATE product_stg\""
      ],
      "execution_count": null,
      "outputs": []
    },
    {
      "cell_type": "code",
      "metadata": {
        "id": "qQ-LVIWmzVe4"
      },
      "source": [
        "!mysql dw -e 'LOAD DATA LOCAL INFILE \"source_data/product2-1.txt \" \\\n",
        "INTO TABLE product_stg \\\n",
        "FIELDS TERMINATED BY \"\" \\\n",
        "OPTIONALLY ENCLOSED BY \"\" \\\n",
        "LINES TERMINATED BY \"\\r\\n\" \\\n",
        "IGNORE 1 LINES \\\n",
        "( product_code \\\n",
        ", product_name \\\n",
        ", product_category )'"
      ],
      "execution_count": null,
      "outputs": []
    },
    {
      "cell_type": "code",
      "metadata": {
        "id": "7kGQYC-czbB5",
        "colab": {
          "base_uri": "https://localhost:8080/",
          "height": 119
        },
        "outputId": "16d77d1b-a2bf-4d02-f05d-df975b778217"
      },
      "source": [
        " # Viewing data in product staging table\n",
        " !mysql dw -e 'select * from product_stg'"
      ],
      "execution_count": null,
      "outputs": [
        {
          "output_type": "stream",
          "text": [
            "+--------------+--------------+------------------+\n",
            "| product_code | product_name | product_category |\n",
            "+--------------+--------------+------------------+\n",
            "|            1 | Hard Disk    | Storage          |\n",
            "|            2 | Floppy Drive | Storage          |\n",
            "+--------------+--------------+------------------+\n"
          ],
          "name": "stdout"
        }
      ]
    },
    {
      "cell_type": "code",
      "metadata": {
        "id": "oeVarfunzp3p",
        "colab": {
          "base_uri": "https://localhost:8080/",
          "height": 187
        },
        "outputId": "40e7be42-5a9d-40dc-aafe-c989da27fb97"
      },
      "source": [
        " # Description of product dim table\n",
        " !mysql dw -e 'desc product_dim'"
      ],
      "execution_count": null,
      "outputs": [
        {
          "output_type": "stream",
          "text": [
            "+------------------+----------+------+-----+---------+----------------+\n",
            "| Field            | Type     | Null | Key | Default | Extra          |\n",
            "+------------------+----------+------+-----+---------+----------------+\n",
            "| product_sk       | int(11)  | NO   | PRI | NULL    | auto_increment |\n",
            "| product_code     | int(11)  | YES  |     | NULL    |                |\n",
            "| product_name     | char(30) | YES  |     | NULL    |                |\n",
            "| product_category | char(30) | YES  |     | NULL    |                |\n",
            "| effective_date   | date     | YES  |     | NULL    |                |\n",
            "| expiry_date      | date     | YES  |     | NULL    |                |\n",
            "+------------------+----------+------+-----+---------+----------------+\n"
          ],
          "name": "stdout"
        }
      ]
    },
    {
      "cell_type": "code",
      "metadata": {
        "id": "Q064BYMuz1cB"
      },
      "source": [
        " #Checking for data in product_dim table \n",
        " !mysql dw -e 'Select * from product_dim'"
      ],
      "execution_count": null,
      "outputs": []
    },
    {
      "cell_type": "code",
      "metadata": {
        "id": "0feN28bt0AQ_",
        "colab": {
          "base_uri": "https://localhost:8080/",
          "height": 34
        },
        "outputId": "48241a00-327b-4ec0-e0eb-9fa6f1c6ab78"
      },
      "source": [
        "# Adding data in product_dim table\n",
        "!mysql -udwid -ppw <scripts/scd2.sql "
      ],
      "execution_count": null,
      "outputs": [
        {
          "output_type": "stream",
          "text": [
            "mysql: [Warning] Using a password on the command line interface can be insecure.\n"
          ],
          "name": "stdout"
        }
      ]
    },
    {
      "cell_type": "code",
      "metadata": {
        "id": "j3APmDo80O-w",
        "colab": {
          "base_uri": "https://localhost:8080/",
          "height": 119
        },
        "outputId": "c7459c24-5946-4ce4-c51c-c0a0a6ae467d"
      },
      "source": [
        "!mysql dw -e 'select * from product_dim'"
      ],
      "execution_count": null,
      "outputs": [
        {
          "output_type": "stream",
          "text": [
            "+------------+--------------+--------------+------------------+----------------+-------------+\n",
            "| product_sk | product_code | product_name | product_category | effective_date | expiry_date |\n",
            "+------------+--------------+--------------+------------------+----------------+-------------+\n",
            "|          1 |            1 | Hard Disk    | Storage          | 2020-10-17     | 9999-12-31  |\n",
            "|          2 |            2 | Floppy Drive | Storage          | 2020-10-17     | 9999-12-31  |\n",
            "+------------+--------------+--------------+------------------+----------------+-------------+\n"
          ],
          "name": "stdout"
        }
      ]
    },
    {
      "cell_type": "code",
      "metadata": {
        "id": "b-LCKCbP0TkA"
      },
      "source": [
        "# updating date since it cant be updated automatically  in product_dim\n",
        "!mysql dw -e 'update product_dim set effective_date = \"2007-02-03\" '"
      ],
      "execution_count": null,
      "outputs": []
    },
    {
      "cell_type": "code",
      "metadata": {
        "id": "0H58bzsh1FlB",
        "colab": {
          "base_uri": "https://localhost:8080/",
          "height": 119
        },
        "outputId": "b017f0c6-e4cc-4322-b81e-70ed2f1e8ec1"
      },
      "source": [
        "!mysql dw -e 'select * from product_dim'"
      ],
      "execution_count": null,
      "outputs": [
        {
          "output_type": "stream",
          "text": [
            "+------------+--------------+--------------+------------------+----------------+-------------+\n",
            "| product_sk | product_code | product_name | product_category | effective_date | expiry_date |\n",
            "+------------+--------------+--------------+------------------+----------------+-------------+\n",
            "|          1 |            1 | Hard Disk    | Storage          | 2007-02-03     | 9999-12-31  |\n",
            "|          2 |            2 | Floppy Drive | Storage          | 2007-02-03     | 9999-12-31  |\n",
            "+------------+--------------+--------------+------------------+----------------+-------------+\n"
          ],
          "name": "stdout"
        }
      ]
    },
    {
      "cell_type": "code",
      "metadata": {
        "id": "Myi7ZTXk1HrI"
      },
      "source": [
        "!mysql dw -e \"TRUNCATE product_stg\""
      ],
      "execution_count": null,
      "outputs": []
    },
    {
      "cell_type": "code",
      "metadata": {
        "id": "O5Qc0yEs2b0h"
      },
      "source": [
        "!mysql dw -e \"select * from product_stg\""
      ],
      "execution_count": null,
      "outputs": []
    },
    {
      "cell_type": "markdown",
      "metadata": {
        "id": "jbGK-6N12jZO"
      },
      "source": [
        "It can be seen that Now no data is present in product staging table"
      ]
    },
    {
      "cell_type": "code",
      "metadata": {
        "id": "H3ZGqDIk2iCZ"
      },
      "source": [
        "!mysql dw -e 'LOAD DATA LOCAL INFILE \"source_data/product2-2.txt \" \\\n",
        "INTO TABLE product_stg \\\n",
        "FIELDS TERMINATED BY \"\" \\\n",
        "OPTIONALLY ENCLOSED BY \"\" \\\n",
        "LINES TERMINATED BY \"\\r\\n\" \\\n",
        "IGNORE 1 LINES \\\n",
        "( product_code \\\n",
        ", product_name \\\n",
        ", product_category )'"
      ],
      "execution_count": null,
      "outputs": []
    },
    {
      "cell_type": "code",
      "metadata": {
        "id": "x1wTwEBV2v-i",
        "colab": {
          "base_uri": "https://localhost:8080/",
          "height": 136
        },
        "outputId": "e1d4b0f7-423c-478c-bd9f-955cd645a95e"
      },
      "source": [
        " # Viewing data in product staging table\n",
        " !mysql dw -e 'select * from product_stg'"
      ],
      "execution_count": null,
      "outputs": [
        {
          "output_type": "stream",
          "text": [
            "+--------------+-----------------+------------------+\n",
            "| product_code | product_name    | product_category |\n",
            "+--------------+-----------------+------------------+\n",
            "|            1 | Hard Disk Drive | Storage          |\n",
            "|            2 | Floppy Drive    | Storage          |\n",
            "|            3 | LCD Panel       | Monitor          |\n",
            "+--------------+-----------------+------------------+\n"
          ],
          "name": "stdout"
        }
      ]
    },
    {
      "cell_type": "code",
      "metadata": {
        "id": "qgw42zBf3i7v"
      },
      "source": [
        ""
      ],
      "execution_count": null,
      "outputs": []
    },
    {
      "cell_type": "code",
      "metadata": {
        "id": "PYpFAy4Y20YB",
        "colab": {
          "base_uri": "https://localhost:8080/",
          "height": 34
        },
        "outputId": "c20432af-97e0-4b42-e276-fb53cea2e7fd"
      },
      "source": [
        "!mysql -udwid -ppw <scripts/scd2.sql "
      ],
      "execution_count": null,
      "outputs": [
        {
          "output_type": "stream",
          "text": [
            "mysql: [Warning] Using a password on the command line interface can be insecure.\n"
          ],
          "name": "stdout"
        }
      ]
    },
    {
      "cell_type": "code",
      "metadata": {
        "id": "JfDyP7Bl3UwR",
        "colab": {
          "base_uri": "https://localhost:8080/",
          "height": 153
        },
        "outputId": "fbbd98c1-9fce-4ad7-f7fb-d69d3a5fba91"
      },
      "source": [
        "!mysql dw -e 'select * from product_dim'"
      ],
      "execution_count": null,
      "outputs": [
        {
          "output_type": "stream",
          "text": [
            "+------------+--------------+-----------------+------------------+----------------+-------------+\n",
            "| product_sk | product_code | product_name    | product_category | effective_date | expiry_date |\n",
            "+------------+--------------+-----------------+------------------+----------------+-------------+\n",
            "|          1 |            1 | Hard Disk       | Storage          | 2007-02-03     | 2020-10-16  |\n",
            "|          2 |            2 | Floppy Drive    | Storage          | 2007-02-03     | 9999-12-31  |\n",
            "|          4 |            1 | Hard Disk Drive | Storage          | 2020-10-17     | 9999-12-31  |\n",
            "|          5 |            3 | LCD Panel       | Monitor          | 2020-10-17     | 9999-12-31  |\n",
            "+------------+--------------+-----------------+------------------+----------------+-------------+\n"
          ],
          "name": "stdout"
        }
      ]
    },
    {
      "cell_type": "code",
      "metadata": {
        "id": "WBbEFHAJ3YAB"
      },
      "source": [
        "!mysql dw -e 'update product_dim set expiry_date =\"2007-02-04\" where product_name =\"Hard Disk\" '"
      ],
      "execution_count": null,
      "outputs": []
    },
    {
      "cell_type": "code",
      "metadata": {
        "id": "VNLZ7JuK5j2g",
        "colab": {
          "base_uri": "https://localhost:8080/",
          "height": 153
        },
        "outputId": "ad6995b6-5bf6-49fd-d2cd-dec931aeb45f"
      },
      "source": [
        "!mysql dw -e 'select * from product_dim'"
      ],
      "execution_count": null,
      "outputs": [
        {
          "output_type": "stream",
          "text": [
            "+------------+--------------+-----------------+------------------+----------------+-------------+\n",
            "| product_sk | product_code | product_name    | product_category | effective_date | expiry_date |\n",
            "+------------+--------------+-----------------+------------------+----------------+-------------+\n",
            "|          1 |            1 | Hard Disk       | Storage          | 2007-02-03     | 2007-02-04  |\n",
            "|          2 |            2 | Floppy Drive    | Storage          | 2007-02-03     | 9999-12-31  |\n",
            "|          4 |            1 | Hard Disk Drive | Storage          | 2020-10-17     | 9999-12-31  |\n",
            "|          5 |            3 | LCD Panel       | Monitor          | 2020-10-17     | 9999-12-31  |\n",
            "+------------+--------------+-----------------+------------------+----------------+-------------+\n"
          ],
          "name": "stdout"
        }
      ]
    },
    {
      "cell_type": "code",
      "metadata": {
        "id": "8FKx99KF5mRi"
      },
      "source": [
        "!mysql dw -e 'update product_dim set product_sk =3, effective_date =\"2007-02-05\" where product_name =\"Hard Disk Drive\" '"
      ],
      "execution_count": null,
      "outputs": []
    },
    {
      "cell_type": "code",
      "metadata": {
        "id": "ex7rYMh36Ah5",
        "colab": {
          "base_uri": "https://localhost:8080/",
          "height": 153
        },
        "outputId": "5410104e-3177-4929-bafb-765863aa8368"
      },
      "source": [
        "!mysql dw -e 'select * from product_dim'"
      ],
      "execution_count": null,
      "outputs": [
        {
          "output_type": "stream",
          "text": [
            "+------------+--------------+-----------------+------------------+----------------+-------------+\n",
            "| product_sk | product_code | product_name    | product_category | effective_date | expiry_date |\n",
            "+------------+--------------+-----------------+------------------+----------------+-------------+\n",
            "|          1 |            1 | Hard Disk       | Storage          | 2007-02-03     | 2007-02-04  |\n",
            "|          2 |            2 | Floppy Drive    | Storage          | 2007-02-03     | 9999-12-31  |\n",
            "|          3 |            1 | Hard Disk Drive | Storage          | 2007-02-05     | 9999-12-31  |\n",
            "|          5 |            3 | LCD Panel       | Monitor          | 2020-10-17     | 9999-12-31  |\n",
            "+------------+--------------+-----------------+------------------+----------------+-------------+\n"
          ],
          "name": "stdout"
        }
      ]
    },
    {
      "cell_type": "code",
      "metadata": {
        "id": "leIm-MYk6Cqh"
      },
      "source": [
        "!mysql dw -e 'update product_dim set product_sk =4, effective_date =\"2007-02-05\" where product_name =\"LCD Panel\" '"
      ],
      "execution_count": null,
      "outputs": []
    },
    {
      "cell_type": "code",
      "metadata": {
        "id": "Ww1fe66r6OIJ",
        "colab": {
          "base_uri": "https://localhost:8080/",
          "height": 153
        },
        "outputId": "e363c4cf-8bd0-4286-c6c3-51896d856b4c"
      },
      "source": [
        "!mysql dw -e 'select * from product_dim'"
      ],
      "execution_count": null,
      "outputs": [
        {
          "output_type": "stream",
          "text": [
            "+------------+--------------+-----------------+------------------+----------------+-------------+\n",
            "| product_sk | product_code | product_name    | product_category | effective_date | expiry_date |\n",
            "+------------+--------------+-----------------+------------------+----------------+-------------+\n",
            "|          1 |            1 | Hard Disk       | Storage          | 2007-02-03     | 2007-02-04  |\n",
            "|          2 |            2 | Floppy Drive    | Storage          | 2007-02-03     | 9999-12-31  |\n",
            "|          3 |            1 | Hard Disk Drive | Storage          | 2007-02-05     | 9999-12-31  |\n",
            "|          4 |            3 | LCD Panel       | Monitor          | 2007-02-05     | 9999-12-31  |\n",
            "+------------+--------------+-----------------+------------------+----------------+-------------+\n"
          ],
          "name": "stdout"
        }
      ]
    },
    {
      "cell_type": "markdown",
      "metadata": {
        "id": "SMOV0iR37Fpp"
      },
      "source": [
        "## Chapter 3: Measure Additivity\n",
        "A measure always has numeric values. One of the most important characteristics of a fact table pertaining to measures is measure additivity. With regard to additivity, a measure may be fully-additive or semi-additive. If you can sum the values of a measure in all situations, the measure is fully-additive. If you can only add up its values in some situations, it is semi-additive. Understanding measure additivity is key to selecting a data item as a measure in a fact table. The order_amount measure in the sales_order_fact table, for example, is fully-additive because you can correctly add up this measure across any one and all of its dimensions. This means, you can correctly sum the order_amount measure in your sales_order_fact table any time, for any product, any customer, and any order.\n",
        "\n",
        "**Fully-Additive Measures**\n",
        "\n",
        "A measure is fully additive if the total of its individual values across any one dimension is the same as the total across any other dimension and across any combination of some or all dimensions\n"
      ]
    },
    {
      "cell_type": "code",
      "metadata": {
        "id": "QZyYOsCA6QBJ",
        "colab": {
          "base_uri": "https://localhost:8080/",
          "height": 34
        },
        "outputId": "4f7ff294-17aa-4214-b97f-7ba157037958"
      },
      "source": [
        "!mysql -udwid -ppw <scripts/additive_data.sql"
      ],
      "execution_count": null,
      "outputs": [
        {
          "output_type": "stream",
          "text": [
            "mysql: [Warning] Using a password on the command line interface can be insecure.\n"
          ],
          "name": "stdout"
        }
      ]
    },
    {
      "cell_type": "code",
      "metadata": {
        "id": "o2300JQO7hYn",
        "colab": {
          "base_uri": "https://localhost:8080/",
          "height": 255
        },
        "outputId": "6b13e54f-ae6e-4712-91ed-cb6333160492"
      },
      "source": [
        "!mysql dw -e 'select * from order_dim'"
      ],
      "execution_count": null,
      "outputs": [
        {
          "output_type": "stream",
          "text": [
            "+----------+--------------+----------------+-------------+\n",
            "| order_sk | order_number | effective_date | expiry_date |\n",
            "+----------+--------------+----------------+-------------+\n",
            "|        1 |            1 | 2020-10-17     | 9999-12-31  |\n",
            "|        2 |            2 | 2020-10-17     | 9999-12-31  |\n",
            "|        3 |            3 | 2020-10-17     | 9999-12-31  |\n",
            "|        4 |            4 | 2020-10-17     | 9999-12-31  |\n",
            "|        5 |            5 | 2020-10-17     | 9999-12-31  |\n",
            "|        6 |            6 | 2020-10-17     | 9999-12-31  |\n",
            "|        7 |            7 | 2020-10-17     | 9999-12-31  |\n",
            "|        8 |            8 | 2020-10-17     | 9999-12-31  |\n",
            "|        9 |            9 | 2020-10-17     | 9999-12-31  |\n",
            "|       10 |           10 | 2020-10-17     | 9999-12-31  |\n",
            "+----------+--------------+----------------+-------------+\n"
          ],
          "name": "stdout"
        }
      ]
    },
    {
      "cell_type": "code",
      "metadata": {
        "id": "WcLM6iI8Bjkc"
      },
      "source": [
        "!mysql dw -e 'update order_dim set effective_date =\"2007-02-05\" where order_sk in (1,2,3,4,5,6,7,8,9,10) '"
      ],
      "execution_count": null,
      "outputs": []
    },
    {
      "cell_type": "code",
      "metadata": {
        "id": "vlmZ-D1BBmCM",
        "colab": {
          "base_uri": "https://localhost:8080/",
          "height": 255
        },
        "outputId": "a5028c1b-50bf-40f7-8258-3cfc68728fde"
      },
      "source": [
        "!mysql dw -e 'select * from order_dim'"
      ],
      "execution_count": null,
      "outputs": [
        {
          "output_type": "stream",
          "text": [
            "+----------+--------------+----------------+-------------+\n",
            "| order_sk | order_number | effective_date | expiry_date |\n",
            "+----------+--------------+----------------+-------------+\n",
            "|        1 |            1 | 2007-02-05     | 9999-12-31  |\n",
            "|        2 |            2 | 2007-02-05     | 9999-12-31  |\n",
            "|        3 |            3 | 2007-02-05     | 9999-12-31  |\n",
            "|        4 |            4 | 2007-02-05     | 9999-12-31  |\n",
            "|        5 |            5 | 2007-02-05     | 9999-12-31  |\n",
            "|        6 |            6 | 2007-02-05     | 9999-12-31  |\n",
            "|        7 |            7 | 2007-02-05     | 9999-12-31  |\n",
            "|        8 |            8 | 2007-02-05     | 9999-12-31  |\n",
            "|        9 |            9 | 2007-02-05     | 9999-12-31  |\n",
            "|       10 |           10 | 2007-02-05     | 9999-12-31  |\n",
            "+----------+--------------+----------------+-------------+\n"
          ],
          "name": "stdout"
        }
      ]
    },
    {
      "cell_type": "code",
      "metadata": {
        "id": "9P-KezBtCP9C"
      },
      "source": [
        "!mysql dw -e 'update date_dim set effective_date =\"2007-02-05\"'"
      ],
      "execution_count": null,
      "outputs": []
    },
    {
      "cell_type": "code",
      "metadata": {
        "id": "DFbDfPHu7oV5",
        "colab": {
          "base_uri": "https://localhost:8080/",
          "height": 102
        },
        "outputId": "ab41f1d1-6c0f-44e1-c546-290cf481ee5c"
      },
      "source": [
        "!mysql dw -e 'select * from date_dim'"
      ],
      "execution_count": null,
      "outputs": [
        {
          "output_type": "stream",
          "text": [
            "+---------+------------+------------+-------+---------+------+----------------+-------------+\n",
            "| date_sk | date       | month_name | month | quarter | year | effective_date | expiry_date |\n",
            "+---------+------------+------------+-------+---------+------+----------------+-------------+\n",
            "|       1 | 2005-10-31 | October    |    10 |       4 | 2005 | 2007-02-05     | 9999-12-31  |\n",
            "+---------+------------+------------+-------+---------+------+----------------+-------------+\n"
          ],
          "name": "stdout"
        }
      ]
    },
    {
      "cell_type": "code",
      "metadata": {
        "id": "8wCDKAAP7q5R",
        "colab": {
          "base_uri": "https://localhost:8080/",
          "height": 255
        },
        "outputId": "f3bf47f5-c996-4dbb-c0c0-a04bf442c90b"
      },
      "source": [
        "!mysql dw -e 'select * from sales_order_fact'"
      ],
      "execution_count": null,
      "outputs": [
        {
          "output_type": "stream",
          "text": [
            "+----------+-------------+------------+---------------+--------------+\n",
            "| order_sk | customer_sk | product_sk | order_date_sk | order_amount |\n",
            "+----------+-------------+------------+---------------+--------------+\n",
            "|        1 |           1 |          2 |             1 |      1000.00 |\n",
            "|        2 |           2 |          3 |             1 |      1000.00 |\n",
            "|        3 |           3 |          4 |             1 |      4000.00 |\n",
            "|        4 |           4 |          2 |             1 |      4000.00 |\n",
            "|        5 |           5 |          3 |             1 |      6000.00 |\n",
            "|        6 |           1 |          4 |             1 |      6000.00 |\n",
            "|        7 |           2 |          2 |             1 |      8000.00 |\n",
            "|        8 |           3 |          3 |             1 |      8000.00 |\n",
            "|        9 |           4 |          4 |             1 |     10000.00 |\n",
            "|       10 |           5 |          2 |             1 |     10000.00 |\n",
            "+----------+-------------+------------+---------------+--------------+\n"
          ],
          "name": "stdout"
        }
      ]
    },
    {
      "cell_type": "markdown",
      "metadata": {
        "id": "ssGCQUOQbbxc"
      },
      "source": [
        "#### Aggregate Queries\n",
        "SUMMING ORDER AMOUNT FROM SALES_ORDER_FACT ACROSS ALL DIMENSIONS"
      ]
    },
    {
      "cell_type": "code",
      "metadata": {
        "id": "p93l05Gw8k5a",
        "colab": {
          "base_uri": "https://localhost:8080/",
          "height": 68
        },
        "outputId": "5c3918e2-bc54-4815-87b6-b4de4b1a9ed4"
      },
      "source": [
        "!mysql -udwid -ppw <scripts/across_all_dimensions.sql"
      ],
      "execution_count": null,
      "outputs": [
        {
          "output_type": "stream",
          "text": [
            "mysql: [Warning] Using a password on the command line interface can be insecure.\n",
            "sum_of_order_amount\n",
            "58000.00\n"
          ],
          "name": "stdout"
        }
      ]
    },
    {
      "cell_type": "markdown",
      "metadata": {
        "id": "ZDRj8U-7bjmG"
      },
      "source": [
        "QUERYING AGAINST DATE PRODUCT AND ORDER DIMENSION"
      ]
    },
    {
      "cell_type": "code",
      "metadata": {
        "id": "Tf7WbtW-87nj",
        "colab": {
          "base_uri": "https://localhost:8080/",
          "height": 136
        },
        "outputId": "61fe8415-5197-4134-d333-112d58334427"
      },
      "source": [
        "\n",
        "!mysql -udwid -ppw <scripts/across_date_product.sql "
      ],
      "execution_count": null,
      "outputs": [
        {
          "output_type": "stream",
          "text": [
            "mysql: [Warning] Using a password on the command line interface can be insecure.\n",
            "customer_number\tsum_of_order_amount\n",
            "1\t7000.00\n",
            "2\t9000.00\n",
            "3\t12000.00\n",
            "4\t14000.00\n",
            "5\t16000.00\n"
          ],
          "name": "stdout"
        }
      ]
    },
    {
      "cell_type": "code",
      "metadata": {
        "id": "xsosAf1z8_ER",
        "colab": {
          "base_uri": "https://localhost:8080/",
          "height": 170
        },
        "outputId": "8d4eedd7-2301-4cd9-8ce3-961a5988871f"
      },
      "source": [
        "!mysql dw -e 'SELECT customer_number, SUM(order_amount) sum_of_order_amount \\\n",
        "FROM sales_order_fact a , customer_dim b WHERE a.customer_sk = b.customer_sk GROUP BY customer_number'"
      ],
      "execution_count": null,
      "outputs": [
        {
          "output_type": "stream",
          "text": [
            "+-----------------+---------------------+\n",
            "| customer_number | sum_of_order_amount |\n",
            "+-----------------+---------------------+\n",
            "|               1 |             7000.00 |\n",
            "|               2 |             9000.00 |\n",
            "|               3 |            12000.00 |\n",
            "|               4 |            14000.00 |\n",
            "|               5 |            16000.00 |\n",
            "+-----------------+---------------------+\n"
          ],
          "name": "stdout"
        }
      ]
    },
    {
      "cell_type": "markdown",
      "metadata": {
        "id": "lsrmTh2Nbp92"
      },
      "source": [
        "QUERYING AGAINST DATE CUSTOMER AND ORDER DIMENSION"
      ]
    },
    {
      "cell_type": "code",
      "metadata": {
        "id": "VWftnopQ9Ghy",
        "colab": {
          "base_uri": "https://localhost:8080/",
          "height": 136
        },
        "outputId": "92bd0092-e6d8-4652-c2d9-5fa0558a880a"
      },
      "source": [
        "!mysql dw -e 'SELECT product_code, SUM(order_amount) sum_of_order_amount \\\n",
        "FROM sales_order_fact a , product_dim b WHERE a.product_sk = b.product_sk GROUP BY product_code'"
      ],
      "execution_count": null,
      "outputs": [
        {
          "output_type": "stream",
          "text": [
            "+--------------+---------------------+\n",
            "| product_code | sum_of_order_amount |\n",
            "+--------------+---------------------+\n",
            "|            1 |            15000.00 |\n",
            "|            2 |            23000.00 |\n",
            "|            3 |            20000.00 |\n",
            "+--------------+---------------------+\n"
          ],
          "name": "stdout"
        }
      ]
    },
    {
      "cell_type": "markdown",
      "metadata": {
        "id": "pyRvcC3ObtPr"
      },
      "source": [
        "QUERYING AGAINST DATE AND ORDER DIMENSION"
      ]
    },
    {
      "cell_type": "code",
      "metadata": {
        "id": "JIfXdN1R9OAi",
        "colab": {
          "base_uri": "https://localhost:8080/",
          "height": 255
        },
        "outputId": "b6005db2-2f9a-4c7f-c484-dc735cbe8e07"
      },
      "source": [
        "!mysql dw -e'SELECT customer_number, product_code, SUM(order_amount) sum_of_order_amount \\\n",
        "FROM sales_order_fact a , customer_dim b , product_dim c \\\n",
        "WHERE a.customer_sk = b.customer_sk AND a.product_sk = c.product_sk GROUP BY customer_number , product_code'"
      ],
      "execution_count": null,
      "outputs": [
        {
          "output_type": "stream",
          "text": [
            "+-----------------+--------------+---------------------+\n",
            "| customer_number | product_code | sum_of_order_amount |\n",
            "+-----------------+--------------+---------------------+\n",
            "|               1 |            2 |             1000.00 |\n",
            "|               1 |            3 |             6000.00 |\n",
            "|               2 |            1 |             1000.00 |\n",
            "|               2 |            2 |             8000.00 |\n",
            "|               3 |            1 |             8000.00 |\n",
            "|               3 |            3 |             4000.00 |\n",
            "|               4 |            2 |             4000.00 |\n",
            "|               4 |            3 |            10000.00 |\n",
            "|               5 |            1 |             6000.00 |\n",
            "|               5 |            2 |            10000.00 |\n",
            "+-----------------+--------------+---------------------+\n"
          ],
          "name": "stdout"
        }
      ]
    },
    {
      "cell_type": "markdown",
      "metadata": {
        "id": "IbfKJX-NA8dO"
      },
      "source": [
        "## Chapter 4: Dimensional Queries\n",
        "A dimensional query is a query in a dimensional data warehouse that joins the fact table and the dimension tables on one or more surrogate keys. \n",
        "\n",
        "\n",
        "**Applying Dimensional Queries**"
      ]
    },
    {
      "cell_type": "code",
      "metadata": {
        "id": "xQfVV3Gk9fG6",
        "colab": {
          "base_uri": "https://localhost:8080/",
          "height": 34
        },
        "outputId": "2c593448-52d0-49cb-9bf9-c308f1b2e2be"
      },
      "source": [
        "!mysql -udwid -ppw <scripts/dimensional_query_data.sql"
      ],
      "execution_count": null,
      "outputs": [
        {
          "output_type": "stream",
          "text": [
            "mysql: [Warning] Using a password on the command line interface can be insecure.\n"
          ],
          "name": "stdout"
        }
      ]
    },
    {
      "cell_type": "code",
      "metadata": {
        "id": "Ht_24a5GBIHj",
        "colab": {
          "base_uri": "https://localhost:8080/",
          "height": 357
        },
        "outputId": "a52ff537-2daf-4793-c08d-d1de387a3535"
      },
      "source": [
        "!mysql dw -e 'select * from order_dim'"
      ],
      "execution_count": null,
      "outputs": [
        {
          "output_type": "stream",
          "text": [
            "+----------+--------------+----------------+-------------+\n",
            "| order_sk | order_number | effective_date | expiry_date |\n",
            "+----------+--------------+----------------+-------------+\n",
            "|        1 |            1 | 2007-02-05     | 9999-12-31  |\n",
            "|        2 |            2 | 2007-02-05     | 9999-12-31  |\n",
            "|        3 |            3 | 2007-02-05     | 9999-12-31  |\n",
            "|        4 |            4 | 2007-02-05     | 9999-12-31  |\n",
            "|        5 |            5 | 2007-02-05     | 9999-12-31  |\n",
            "|        6 |            6 | 2007-02-05     | 9999-12-31  |\n",
            "|        7 |            7 | 2007-02-05     | 9999-12-31  |\n",
            "|        8 |            8 | 2007-02-05     | 9999-12-31  |\n",
            "|        9 |            9 | 2007-02-05     | 9999-12-31  |\n",
            "|       10 |           10 | 2007-02-05     | 9999-12-31  |\n",
            "|       11 |           11 | 2020-10-17     | 9999-12-31  |\n",
            "|       12 |           12 | 2020-10-17     | 9999-12-31  |\n",
            "|       13 |           13 | 2020-10-17     | 9999-12-31  |\n",
            "|       14 |           14 | 2020-10-17     | 9999-12-31  |\n",
            "|       15 |           15 | 2020-10-17     | 9999-12-31  |\n",
            "|       16 |           16 | 2020-10-17     | 9999-12-31  |\n",
            "+----------+--------------+----------------+-------------+\n"
          ],
          "name": "stdout"
        }
      ]
    },
    {
      "cell_type": "code",
      "metadata": {
        "id": "iEJrJb4cBKIp"
      },
      "source": [
        "# changing the effective date to \"2007-02-06\" for newly added orders\n",
        "!mysql dw -e 'update order_dim set effective_date =\"2007-02-06\" where order_sk in (11,12,13,14,15,16) '"
      ],
      "execution_count": null,
      "outputs": []
    },
    {
      "cell_type": "code",
      "metadata": {
        "id": "MigTt6z0BOdp",
        "colab": {
          "base_uri": "https://localhost:8080/",
          "height": 357
        },
        "outputId": "e75ffe4b-621a-45cd-d9fb-beaa764c30bb"
      },
      "source": [
        "!mysql dw -e 'select * from order_dim'"
      ],
      "execution_count": null,
      "outputs": [
        {
          "output_type": "stream",
          "text": [
            "+----------+--------------+----------------+-------------+\n",
            "| order_sk | order_number | effective_date | expiry_date |\n",
            "+----------+--------------+----------------+-------------+\n",
            "|        1 |            1 | 2007-02-05     | 9999-12-31  |\n",
            "|        2 |            2 | 2007-02-05     | 9999-12-31  |\n",
            "|        3 |            3 | 2007-02-05     | 9999-12-31  |\n",
            "|        4 |            4 | 2007-02-05     | 9999-12-31  |\n",
            "|        5 |            5 | 2007-02-05     | 9999-12-31  |\n",
            "|        6 |            6 | 2007-02-05     | 9999-12-31  |\n",
            "|        7 |            7 | 2007-02-05     | 9999-12-31  |\n",
            "|        8 |            8 | 2007-02-05     | 9999-12-31  |\n",
            "|        9 |            9 | 2007-02-05     | 9999-12-31  |\n",
            "|       10 |           10 | 2007-02-05     | 9999-12-31  |\n",
            "|       11 |           11 | 2007-02-06     | 9999-12-31  |\n",
            "|       12 |           12 | 2007-02-06     | 9999-12-31  |\n",
            "|       13 |           13 | 2007-02-06     | 9999-12-31  |\n",
            "|       14 |           14 | 2007-02-06     | 9999-12-31  |\n",
            "|       15 |           15 | 2007-02-06     | 9999-12-31  |\n",
            "|       16 |           16 | 2007-02-06     | 9999-12-31  |\n",
            "+----------+--------------+----------------+-------------+\n"
          ],
          "name": "stdout"
        }
      ]
    },
    {
      "cell_type": "code",
      "metadata": {
        "id": "6lXA83nnDYwC",
        "colab": {
          "base_uri": "https://localhost:8080/",
          "height": 119
        },
        "outputId": "7d909c5f-8e19-498b-c8dc-6f471762c734"
      },
      "source": [
        "!mysql dw -e 'select * from date_dim'"
      ],
      "execution_count": null,
      "outputs": [
        {
          "output_type": "stream",
          "text": [
            "+---------+------------+------------+-------+---------+------+----------------+-------------+\n",
            "| date_sk | date       | month_name | month | quarter | year | effective_date | expiry_date |\n",
            "+---------+------------+------------+-------+---------+------+----------------+-------------+\n",
            "|       1 | 2005-10-31 | October    |    10 |       4 | 2005 | 2007-02-05     | 9999-12-31  |\n",
            "|       2 | 2005-11-01 | November   |    11 |       4 | 2005 | 2020-10-17     | 9999-12-31  |\n",
            "+---------+------------+------------+-------+---------+------+----------------+-------------+\n"
          ],
          "name": "stdout"
        }
      ]
    },
    {
      "cell_type": "code",
      "metadata": {
        "id": "pQuXOcW2DgeT"
      },
      "source": [
        "!mysql dw -e 'update date_dim set effective_date =\"2007-02-05\"'"
      ],
      "execution_count": null,
      "outputs": []
    },
    {
      "cell_type": "code",
      "metadata": {
        "id": "kXtHH-joDpI7",
        "colab": {
          "base_uri": "https://localhost:8080/",
          "height": 119
        },
        "outputId": "797e5b5a-6299-4627-a5b7-71d34ab52c64"
      },
      "source": [
        "!mysql dw -e 'select * from date_dim'"
      ],
      "execution_count": null,
      "outputs": [
        {
          "output_type": "stream",
          "text": [
            "+---------+------------+------------+-------+---------+------+----------------+-------------+\n",
            "| date_sk | date       | month_name | month | quarter | year | effective_date | expiry_date |\n",
            "+---------+------------+------------+-------+---------+------+----------------+-------------+\n",
            "|       1 | 2005-10-31 | October    |    10 |       4 | 2005 | 2007-02-05     | 9999-12-31  |\n",
            "|       2 | 2005-11-01 | November   |    11 |       4 | 2005 | 2007-02-05     | 9999-12-31  |\n",
            "+---------+------------+------------+-------+---------+------+----------------+-------------+\n"
          ],
          "name": "stdout"
        }
      ]
    },
    {
      "cell_type": "code",
      "metadata": {
        "id": "YrFqFUxvDqYL",
        "colab": {
          "base_uri": "https://localhost:8080/",
          "height": 357
        },
        "outputId": "c6e462b4-c48d-40c8-f3df-55d19fbe2922"
      },
      "source": [
        "!mysql dw -e 'select * from sales_order_fact'"
      ],
      "execution_count": null,
      "outputs": [
        {
          "output_type": "stream",
          "text": [
            "+----------+-------------+------------+---------------+--------------+\n",
            "| order_sk | customer_sk | product_sk | order_date_sk | order_amount |\n",
            "+----------+-------------+------------+---------------+--------------+\n",
            "|        1 |           1 |          2 |             1 |      1000.00 |\n",
            "|        2 |           2 |          3 |             1 |      1000.00 |\n",
            "|        3 |           3 |          4 |             1 |      4000.00 |\n",
            "|        4 |           4 |          2 |             1 |      4000.00 |\n",
            "|        5 |           5 |          3 |             1 |      6000.00 |\n",
            "|        6 |           1 |          4 |             1 |      6000.00 |\n",
            "|        7 |           2 |          2 |             1 |      8000.00 |\n",
            "|        8 |           3 |          3 |             1 |      8000.00 |\n",
            "|        9 |           4 |          4 |             1 |     10000.00 |\n",
            "|       10 |           5 |          2 |             1 |     10000.00 |\n",
            "|       11 |           1 |          2 |             2 |     20000.00 |\n",
            "|       12 |           2 |          3 |             2 |     25000.00 |\n",
            "|       13 |           3 |          4 |             2 |     30000.00 |\n",
            "|       14 |           4 |          2 |             2 |     35000.00 |\n",
            "|       15 |           5 |          3 |             2 |     40000.00 |\n",
            "|       16 |           1 |          4 |             2 |     45000.00 |\n",
            "+----------+-------------+------------+---------------+--------------+\n"
          ],
          "name": "stdout"
        }
      ]
    },
    {
      "cell_type": "markdown",
      "metadata": {
        "id": "DBKXaEd3a8hQ"
      },
      "source": [
        "### Aggregate Queries\n",
        "#### Daily Sales Aggregation\n"
      ]
    },
    {
      "cell_type": "code",
      "metadata": {
        "id": "LduP1nE5Dtsz",
        "colab": {
          "base_uri": "https://localhost:8080/",
          "height": 68
        },
        "outputId": "b5bf332a-8ec9-43a2-f39c-f3c1f157dd60"
      },
      "source": [
        "!mysql dw  <scripts/daily_aggregation.sql"
      ],
      "execution_count": null,
      "outputs": [
        {
          "output_type": "stream",
          "text": [
            "date\tSUM(order_amount)\tCOUNT(*)\n",
            "2005-10-31\t58000.00\t10\n",
            "2005-11-01\t195000.00\t6\n"
          ],
          "name": "stdout"
        }
      ]
    },
    {
      "cell_type": "markdown",
      "metadata": {
        "id": "kJbdSW4ebFdo"
      },
      "source": [
        "#### Annual Aggregation"
      ]
    },
    {
      "cell_type": "code",
      "metadata": {
        "id": "gcGRtbKpDxkj",
        "colab": {
          "base_uri": "https://localhost:8080/",
          "height": 136
        },
        "outputId": "57d3defd-a945-4fd9-8229-073f64cf442c"
      },
      "source": [
        "!mysql dw  <scripts/annual_aggregation.sql"
      ],
      "execution_count": null,
      "outputs": [
        {
          "output_type": "stream",
          "text": [
            "year\tproduct_name\tcustomer_city\tSUM(order_amount)\tCOUNT(*)\n",
            "2005\tFloppy Drive\tMechanicsburg\t70000.00\t5\n",
            "2005\tFloppy Drive\tPittsburgh\t8000.00\t1\n",
            "2005\tHard Disk Drive\tMechanicsburg\t46000.00\t2\n",
            "2005\tHard Disk Drive\tPittsburgh\t34000.00\t3\n",
            "2005\tLCD Panel\tMechanicsburg\t61000.00\t3\n",
            "2005\tLCD Panel\tPittsburgh\t34000.00\t2\n"
          ],
          "name": "stdout"
        }
      ]
    },
    {
      "cell_type": "markdown",
      "metadata": {
        "id": "XEZqcuOqBwpc"
      },
      "source": [
        "### Specific Queries\n",
        "\n",
        "A specific query selects and aggregates the facts on a specific dimension value. \n",
        "\n",
        "#### Monthly Storage Product Sales\n"
      ]
    },
    {
      "cell_type": "code",
      "metadata": {
        "id": "syZL_D-tD1pi",
        "colab": {
          "base_uri": "https://localhost:8080/",
          "height": 102
        },
        "outputId": "b426cda9-7388-472d-a724-ba31173c222f"
      },
      "source": [
        "!mysql dw  <scripts/monthly_storage.sql "
      ],
      "execution_count": null,
      "outputs": [
        {
          "output_type": "stream",
          "text": [
            "product_name\tmonth_name\tyear\tSUM(order_amount)\tCOUNT(*)\n",
            "Floppy Drive\tNovember\t2005\t55000.00\t2\n",
            "Hard Disk Drive\tNovember\t2005\t65000.00\t2\n",
            "Hard Disk Drive\tOctober\t2005\t15000.00\t3\n",
            "Floppy Drive\tOctober\t2005\t23000.00\t4\n"
          ],
          "name": "stdout"
        }
      ]
    },
    {
      "cell_type": "markdown",
      "metadata": {
        "id": "D_6cW-xpCIFu"
      },
      "source": [
        "#### Quarterly Sales in Mechanisburg"
      ]
    },
    {
      "cell_type": "code",
      "metadata": {
        "id": "of04EBQ4D-lT",
        "colab": {
          "base_uri": "https://localhost:8080/",
          "height": 51
        },
        "outputId": "7f3edf54-0d1a-4a12-a3bc-a5b320bcf041"
      },
      "source": [
        "!mysql dw  <scripts/quarterly_mechanicsburg.sql  "
      ],
      "execution_count": null,
      "outputs": [
        {
          "output_type": "stream",
          "text": [
            "customer_city\tquarter\tyear\tSUM(order_amount)\tCOUNT(order_sk)\n",
            "Mechanicsburg\t4\t2005\t177000.00\t10\n"
          ],
          "name": "stdout"
        }
      ]
    },
    {
      "cell_type": "markdown",
      "metadata": {
        "id": "S7knFYbQAma4"
      },
      "source": [
        "###Inside-Out Queries\n",
        "### Product Performer\n",
        "This query gives the sales orders of products that have a monthly sales amount of 75,000 or more"
      ]
    },
    {
      "cell_type": "code",
      "metadata": {
        "id": "0HFdUghAECny",
        "colab": {
          "base_uri": "https://localhost:8080/",
          "height": 54
        },
        "outputId": "1557b99a-4607-44e9-9b5e-9f23e266bafd"
      },
      "source": [
        "#Find sales orders of products that have a monthly sales amount of 75,000 or more\n",
        "!mysql dw <scripts/monthly_product_performer.sql"
      ],
      "execution_count": null,
      "outputs": [
        {
          "output_type": "stream",
          "text": [
            "ERROR 1055 (42000) at line 9: Expression #1 of ORDER BY clause is not in GROUP BY clause and contains nonaggregated column 'dw.c.month' which is not functionally dependent on columns in GROUP BY clause; this is incompatible with sql_mode=only_full_group_by\n"
          ],
          "name": "stdout"
        }
      ]
    },
    {
      "cell_type": "code",
      "metadata": {
        "id": "MjN9c99SEFWD",
        "colab": {
          "base_uri": "https://localhost:8080/",
          "height": 102
        },
        "outputId": "34ba7bbe-0dd2-4885-a05c-30d6c35d49c3"
      },
      "source": [
        "!mysql dw -e 'SELECT month_name, year, product_name,\\\n",
        " SUM(order_amount), COUNT(*) FROM sales_order_fact a \\\n",
        "  , product_dim b , date_dim c WHERE a.product_sk = b.product_sk \\\n",
        "  AND a.order_date_sk = c.date_sk GROUP BY month_name , year , product_name HAVING SUM(order_amount) >= 75000 ORDER BY month_name , year , product_name'"
      ],
      "execution_count": null,
      "outputs": [
        {
          "output_type": "stream",
          "text": [
            "+------------+------+--------------+-------------------+----------+\n",
            "| month_name | year | product_name | SUM(order_amount) | COUNT(*) |\n",
            "+------------+------+--------------+-------------------+----------+\n",
            "| November   | 2005 | LCD Panel    |          75000.00 |        2 |\n",
            "+------------+------+--------------+-------------------+----------+\n"
          ],
          "name": "stdout"
        }
      ]
    },
    {
      "cell_type": "markdown",
      "metadata": {
        "id": "rKZc9yPqAgz7"
      },
      "source": [
        "### Loyal Customer\n",
        "It gives the customer(s) that placed more than five orders annually in the past eighteen months"
      ]
    },
    {
      "cell_type": "code",
      "metadata": {
        "id": "lBDoJsGvEPc6",
        "colab": {
          "base_uri": "https://localhost:8080/",
          "height": 51
        },
        "outputId": "75fff9b6-51ba-4bc6-d1b9-b900f190a82d"
      },
      "source": [
        "!mysql dw <scripts/loyal_customer.sql"
      ],
      "execution_count": null,
      "outputs": [
        {
          "output_type": "stream",
          "text": [
            "customer_number\tyear\tCOUNT(*)\n",
            "1\t2005\t4\n"
          ],
          "name": "stdout"
        }
      ]
    },
    {
      "cell_type": "code",
      "metadata": {
        "id": "8fkuQA2JEcbC"
      },
      "source": [
        ""
      ],
      "execution_count": null,
      "outputs": []
    },
    {
      "cell_type": "code",
      "metadata": {
        "id": "YSpR3RP2-m2G"
      },
      "source": [
        ""
      ],
      "execution_count": null,
      "outputs": []
    }
  ]
}